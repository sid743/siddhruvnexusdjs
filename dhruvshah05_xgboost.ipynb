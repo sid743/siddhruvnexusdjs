{
 "cells": [
  {
   "cell_type": "markdown",
   "id": "8078fd09",
   "metadata": {},
   "source": [
    "# Dhruv Shah and Siddharth Mody"
   ]
  },
  {
   "cell_type": "code",
   "execution_count": 1,
   "id": "1e6b02f0",
   "metadata": {},
   "outputs": [],
   "source": [
    "# Importing libraries\n",
    "import pandas as pd\n",
    "from sklearn.preprocessing import LabelEncoder\n",
    "import category_encoders as ce\n",
    "import seaborn as sns\n",
    "import matplotlib.pyplot as plt"
   ]
  },
  {
   "cell_type": "code",
   "execution_count": 2,
   "id": "98aff5d5",
   "metadata": {},
   "outputs": [],
   "source": [
    "# Let's load our datasets, train and test. \n",
    "df = pd.read_csv('train.csv')\n",
    "test = pd.read_csv('test.csv')"
   ]
  },
  {
   "cell_type": "code",
   "execution_count": 3,
   "id": "f90f6be6",
   "metadata": {},
   "outputs": [],
   "source": [
    "# Target column we're predicting. \n",
    "target_column = 'Target_Status'"
   ]
  },
  {
   "cell_type": "code",
   "execution_count": 4,
   "id": "eca15e7d",
   "metadata": {},
   "outputs": [],
   "source": [
    "# Quick cleanup, we're making sure 'approved' status in Drug_high_status is consistent across both datasets.\n",
    "df['Drug_high_status'] = df['Drug_high_status'].replace({'approved': 'Approved'})\n",
    "test['Drug_high_status'] = test['Drug_high_status'].replace({'approved': 'Approved'})"
   ]
  },
  {
   "cell_type": "code",
   "execution_count": 5,
   "id": "6a3acbf0",
   "metadata": {},
   "outputs": [],
   "source": [
    "# separate our target (y) from the features (X) because that's what we are predicting.\n",
    "X = df.drop(columns=[target_column])\n",
    "y = df[target_column]"
   ]
  },
  {
   "cell_type": "code",
   "execution_count": 6,
   "id": "655332a3",
   "metadata": {},
   "outputs": [
    {
     "data": {
      "text/html": [
       "<div>\n",
       "<style scoped>\n",
       "    .dataframe tbody tr th:only-of-type {\n",
       "        vertical-align: middle;\n",
       "    }\n",
       "\n",
       "    .dataframe tbody tr th {\n",
       "        vertical-align: top;\n",
       "    }\n",
       "\n",
       "    .dataframe thead th {\n",
       "        text-align: right;\n",
       "    }\n",
       "</style>\n",
       "<table border=\"1\" class=\"dataframe\">\n",
       "  <thead>\n",
       "    <tr style=\"text-align: right;\">\n",
       "      <th></th>\n",
       "      <th>ID</th>\n",
       "      <th>TargetID</th>\n",
       "      <th>DRUGID</th>\n",
       "      <th>DRUGTYPE</th>\n",
       "      <th>Drug_high_status</th>\n",
       "      <th>DRUGNAME</th>\n",
       "      <th>PUBCHCID</th>\n",
       "      <th>Disease_of_highest_status</th>\n",
       "      <th>Drug_Status</th>\n",
       "      <th>UNIPROID</th>\n",
       "      <th>TARGNAME</th>\n",
       "      <th>GENENAME</th>\n",
       "      <th>SYNONYMS</th>\n",
       "      <th>FUNCTION</th>\n",
       "      <th>BIOCLASS</th>\n",
       "      <th>SEQUENCE</th>\n",
       "      <th>Disease</th>\n",
       "      <th>Accession Number</th>\n",
       "    </tr>\n",
       "  </thead>\n",
       "  <tbody>\n",
       "    <tr>\n",
       "      <th>0</th>\n",
       "      <td>140736</td>\n",
       "      <td>T51115</td>\n",
       "      <td>D0L4YD</td>\n",
       "      <td>Small molecular drug</td>\n",
       "      <td>Approved</td>\n",
       "      <td>Solifenacin</td>\n",
       "      <td>154059</td>\n",
       "      <td>Overactive bladder</td>\n",
       "      <td>Approved</td>\n",
       "      <td>CAC1C_HUMAN</td>\n",
       "      <td>Voltage-gated calcium channel alpha Cav1.2 (CA...</td>\n",
       "      <td>CACNA1C</td>\n",
       "      <td>Voltage-gated calcium channel subunit alpha Ca...</td>\n",
       "      <td>Mediates influx of calcium ions into the cytop...</td>\n",
       "      <td>Voltage-gated ion channel</td>\n",
       "      <td>MVNENTRMYIPEENHQGSNYGSPRPAHANMNANAAAGLAPEHIPTP...</td>\n",
       "      <td>Genetic cardiac arrhythmia</td>\n",
       "      <td>Q13936</td>\n",
       "    </tr>\n",
       "    <tr>\n",
       "      <th>1</th>\n",
       "      <td>133048</td>\n",
       "      <td>T60529</td>\n",
       "      <td>D03NMM</td>\n",
       "      <td>Small molecular drug</td>\n",
       "      <td>Investigative</td>\n",
       "      <td>AM-643</td>\n",
       "      <td>46843035</td>\n",
       "      <td>Dermatological disease</td>\n",
       "      <td>Investigative</td>\n",
       "      <td>PGH1_HUMAN</td>\n",
       "      <td>Prostaglandin G/H synthase 1 (COX-1)</td>\n",
       "      <td>PTGS1</td>\n",
       "      <td>Prostaglandin-endoperoxide synthase 1; Prostag...</td>\n",
       "      <td>Converts arachidonate to prostaglandin H2 (PGH...</td>\n",
       "      <td>Paired donor oxygen oxidoreductase</td>\n",
       "      <td>MSRSLLLWFLLFLLLLPPLPVLLADPGAPTPVNPCCYYPCQHQGIC...</td>\n",
       "      <td>Rheumatoid arthritis</td>\n",
       "      <td>P23219</td>\n",
       "    </tr>\n",
       "    <tr>\n",
       "      <th>2</th>\n",
       "      <td>60493</td>\n",
       "      <td>T80975</td>\n",
       "      <td>D0T2ER</td>\n",
       "      <td>Small molecular drug</td>\n",
       "      <td>Phase 1</td>\n",
       "      <td>TAK-593</td>\n",
       "      <td>24767976</td>\n",
       "      <td>Solid tumour/cancer</td>\n",
       "      <td>Phase 1</td>\n",
       "      <td>VGFR2_HUMAN</td>\n",
       "      <td>Vascular endothelial growth factor receptor 2 ...</td>\n",
       "      <td>KDR</td>\n",
       "      <td>VEGFR2; VEGFR-2; VEGF-2 receptor; Protein-tyro...</td>\n",
       "      <td>Plays an essential role in the regulation of a...</td>\n",
       "      <td>Kinase</td>\n",
       "      <td>MQSKVLLAVALWLCVETRAASVGLPSVSLDLPRLSIQKDILTIKAN...</td>\n",
       "      <td>Renal cell carcinoma</td>\n",
       "      <td>P35968</td>\n",
       "    </tr>\n",
       "    <tr>\n",
       "      <th>3</th>\n",
       "      <td>169176</td>\n",
       "      <td>T92072</td>\n",
       "      <td>D07ESH</td>\n",
       "      <td>Small molecular drug</td>\n",
       "      <td>Discontinued in Phase 3</td>\n",
       "      <td>PF-1913539</td>\n",
       "      <td>176408</td>\n",
       "      <td>Alzheimer disease</td>\n",
       "      <td>Discontinued in Phase 3</td>\n",
       "      <td>AA1R_HUMAN</td>\n",
       "      <td>Adenosine A1 receptor (ADORA1)</td>\n",
       "      <td>ADORA1</td>\n",
       "      <td>Adenosine receptor A1; A(1) adenosine receptor</td>\n",
       "      <td>The activity of this receptor is mediated by G...</td>\n",
       "      <td>GPCR rhodopsin</td>\n",
       "      <td>MPPSISAFQAAYIGIEVLIALVSVPGNVLVIWAVKVNQALRDATFC...</td>\n",
       "      <td>Hyper-lipoproteinaemia</td>\n",
       "      <td>P30542</td>\n",
       "    </tr>\n",
       "    <tr>\n",
       "      <th>4</th>\n",
       "      <td>120183</td>\n",
       "      <td>T30082</td>\n",
       "      <td>D0Q0RC</td>\n",
       "      <td>Small molecular drug</td>\n",
       "      <td>Approved</td>\n",
       "      <td>Ethopropazine</td>\n",
       "      <td>3290</td>\n",
       "      <td>Parkinson disease</td>\n",
       "      <td>Approved</td>\n",
       "      <td>ACES_HUMAN</td>\n",
       "      <td>Acetylcholinesterase (AChE)</td>\n",
       "      <td>ACHE</td>\n",
       "      <td>YT; N-ACHE; ARACHE</td>\n",
       "      <td>Role in neuronal apoptosis. Terminates signal ...</td>\n",
       "      <td>Carboxylic ester hydrolase</td>\n",
       "      <td>MRPPQCLLHTPSLASPLLLLLLWLLGGGVGAEGREDAELLVTVRGG...</td>\n",
       "      <td>Oesophageal/gastroduodenal disorder</td>\n",
       "      <td>P22303</td>\n",
       "    </tr>\n",
       "  </tbody>\n",
       "</table>\n",
       "</div>"
      ],
      "text/plain": [
       "       ID TargetID  DRUGID              DRUGTYPE         Drug_high_status  \\\n",
       "0  140736   T51115  D0L4YD  Small molecular drug                 Approved   \n",
       "1  133048   T60529  D03NMM  Small molecular drug            Investigative   \n",
       "2   60493   T80975  D0T2ER  Small molecular drug                  Phase 1   \n",
       "3  169176   T92072  D07ESH  Small molecular drug  Discontinued in Phase 3   \n",
       "4  120183   T30082  D0Q0RC  Small molecular drug                 Approved   \n",
       "\n",
       "        DRUGNAME  PUBCHCID Disease_of_highest_status              Drug_Status  \\\n",
       "0    Solifenacin    154059        Overactive bladder                 Approved   \n",
       "1         AM-643  46843035    Dermatological disease            Investigative   \n",
       "2        TAK-593  24767976       Solid tumour/cancer                  Phase 1   \n",
       "3     PF-1913539    176408         Alzheimer disease  Discontinued in Phase 3   \n",
       "4  Ethopropazine      3290         Parkinson disease                 Approved   \n",
       "\n",
       "      UNIPROID                                           TARGNAME GENENAME  \\\n",
       "0  CAC1C_HUMAN  Voltage-gated calcium channel alpha Cav1.2 (CA...  CACNA1C   \n",
       "1   PGH1_HUMAN               Prostaglandin G/H synthase 1 (COX-1)    PTGS1   \n",
       "2  VGFR2_HUMAN  Vascular endothelial growth factor receptor 2 ...      KDR   \n",
       "3   AA1R_HUMAN                     Adenosine A1 receptor (ADORA1)   ADORA1   \n",
       "4   ACES_HUMAN                        Acetylcholinesterase (AChE)     ACHE   \n",
       "\n",
       "                                            SYNONYMS  \\\n",
       "0  Voltage-gated calcium channel subunit alpha Ca...   \n",
       "1  Prostaglandin-endoperoxide synthase 1; Prostag...   \n",
       "2  VEGFR2; VEGFR-2; VEGF-2 receptor; Protein-tyro...   \n",
       "3     Adenosine receptor A1; A(1) adenosine receptor   \n",
       "4                                 YT; N-ACHE; ARACHE   \n",
       "\n",
       "                                            FUNCTION  \\\n",
       "0  Mediates influx of calcium ions into the cytop...   \n",
       "1  Converts arachidonate to prostaglandin H2 (PGH...   \n",
       "2  Plays an essential role in the regulation of a...   \n",
       "3  The activity of this receptor is mediated by G...   \n",
       "4  Role in neuronal apoptosis. Terminates signal ...   \n",
       "\n",
       "                             BIOCLASS  \\\n",
       "0           Voltage-gated ion channel   \n",
       "1  Paired donor oxygen oxidoreductase   \n",
       "2                              Kinase   \n",
       "3                      GPCR rhodopsin   \n",
       "4          Carboxylic ester hydrolase   \n",
       "\n",
       "                                            SEQUENCE  \\\n",
       "0  MVNENTRMYIPEENHQGSNYGSPRPAHANMNANAAAGLAPEHIPTP...   \n",
       "1  MSRSLLLWFLLFLLLLPPLPVLLADPGAPTPVNPCCYYPCQHQGIC...   \n",
       "2  MQSKVLLAVALWLCVETRAASVGLPSVSLDLPRLSIQKDILTIKAN...   \n",
       "3  MPPSISAFQAAYIGIEVLIALVSVPGNVLVIWAVKVNQALRDATFC...   \n",
       "4  MRPPQCLLHTPSLASPLLLLLLWLLGGGVGAEGREDAELLVTVRGG...   \n",
       "\n",
       "                               Disease Accession Number  \n",
       "0           Genetic cardiac arrhythmia           Q13936  \n",
       "1                 Rheumatoid arthritis           P23219  \n",
       "2                 Renal cell carcinoma           P35968  \n",
       "3               Hyper-lipoproteinaemia           P30542  \n",
       "4  Oesophageal/gastroduodenal disorder           P22303  "
      ]
     },
     "execution_count": 6,
     "metadata": {},
     "output_type": "execute_result"
    }
   ],
   "source": [
    "X.head()"
   ]
  },
  {
   "cell_type": "code",
   "execution_count": 7,
   "id": "7e1876d8",
   "metadata": {},
   "outputs": [
    {
     "data": {
      "text/plain": [
       "ID                           0\n",
       "TargetID                     0\n",
       "DRUGID                       0\n",
       "DRUGTYPE                     0\n",
       "Drug_high_status             0\n",
       "DRUGNAME                     0\n",
       "PUBCHCID                     0\n",
       "Disease_of_highest_status    0\n",
       "Drug_Status                  0\n",
       "UNIPROID                     0\n",
       "TARGNAME                     0\n",
       "GENENAME                     0\n",
       "SYNONYMS                     0\n",
       "FUNCTION                     0\n",
       "BIOCLASS                     0\n",
       "SEQUENCE                     0\n",
       "Disease                      0\n",
       "Accession Number             0\n",
       "dtype: int64"
      ]
     },
     "execution_count": 7,
     "metadata": {},
     "output_type": "execute_result"
    }
   ],
   "source": [
    "X.isnull().sum()"
   ]
  },
  {
   "cell_type": "code",
   "execution_count": 8,
   "id": "871180eb",
   "metadata": {},
   "outputs": [
    {
     "data": {
      "text/plain": [
       "ID                           134486\n",
       "TargetID                        701\n",
       "DRUGID                         2443\n",
       "DRUGTYPE                          6\n",
       "Drug_high_status                 28\n",
       "DRUGNAME                       2443\n",
       "PUBCHCID                       2443\n",
       "Disease_of_highest_status       674\n",
       "Drug_Status                      27\n",
       "UNIPROID                        698\n",
       "TARGNAME                        701\n",
       "GENENAME                        700\n",
       "SYNONYMS                        701\n",
       "FUNCTION                        684\n",
       "BIOCLASS                        102\n",
       "SEQUENCE                        698\n",
       "Disease                         589\n",
       "Accession Number                692\n",
       "dtype: int64"
      ]
     },
     "execution_count": 8,
     "metadata": {},
     "output_type": "execute_result"
    }
   ],
   "source": [
    "X.nunique()"
   ]
  },
  {
   "cell_type": "code",
   "execution_count": 10,
   "id": "894e6543",
   "metadata": {},
   "outputs": [
    {
     "data": {
      "image/png": "[encoded data removed]",
      "text/plain": [
       "<Figure size 640x480 with 1 Axes>"
      ]
     },
     "metadata": {},
     "output_type": "display_data"
    }
   ],
   "source": [
    "sns.countplot(x=y)\n",
    "plt.title(\"Distribution of Target_Status\")\n",
    "plt.show()"
   ]
  },
  {
   "cell_type": "code",
   "execution_count": 17,
   "id": "0f8bc6d8",
   "metadata": {},
   "outputs": [],
   "source": [
    "# label encode our target variable \n",
    "le = LabelEncoder()\n",
    "y_encoded = le.fit_transform(y)"
   ]
  },
  {
   "cell_type": "code",
   "execution_count": 18,
   "id": "0e64eb67",
   "metadata": {},
   "outputs": [
    {
     "name": "stdout",
     "output_type": "stream",
     "text": [
      "Encoded Target Values:\n",
      "[31  1  1 22  1 18  1 22  1 26]\n"
     ]
    }
   ],
   "source": [
    "print(\"Encoded Target Values:\")\n",
    "print(y_encoded[:10])  # Just printing the first 10 encoded values"
   ]
  },
  {
   "cell_type": "code",
   "execution_count": 19,
   "id": "4ccc5f1e",
   "metadata": {},
   "outputs": [
    {
     "name": "stdout",
     "output_type": "stream",
     "text": [
      "Categorical columns to encode: ['TargetID', 'DRUGID', 'Drug_high_status', 'DRUGNAME', 'Disease_of_highest_status', 'Drug_Status', 'UNIPROID', 'TARGNAME', 'GENENAME', 'SYNONYMS', 'FUNCTION', 'BIOCLASS', 'SEQUENCE', 'Disease', 'Accession Number']\n"
     ]
    }
   ],
   "source": [
    "# identify all the categorical columns that we'll need to encode.\n",
    "# (Excluding 'DRUGTYPE' for now ) remember later !!!!\n",
    "categorical_cols = X.select_dtypes(include=['object']).columns\n",
    "categorical_cols = [col for col in categorical_cols if col != 'DRUGTYPE']\n",
    "print(f\"Categorical columns to encode: {categorical_cols}\")"
   ]
  },
  {
   "cell_type": "code",
   "execution_count": 20,
   "id": "4453925f",
   "metadata": {},
   "outputs": [],
   "source": [
    "target_encoder = ce.TargetEncoder(cols=categorical_cols)\n",
    "X_train_encoded = target_encoder.fit_transform(X, y_encoded)\n",
    "X_test_encoded = target_encoder.transform(test)"
   ]
  },
  {
   "cell_type": "code",
   "execution_count": 21,
   "id": "1036f43e",
   "metadata": {},
   "outputs": [],
   "source": [
    "#only 6 unique values ?? OHE\n",
    "X_train_encoded = pd.get_dummies(X_train_encoded, columns=['DRUGTYPE'], drop_first=True)\n",
    "X_test_encoded = pd.get_dummies(X_test_encoded, columns=['DRUGTYPE'], drop_first=True)"
   ]
  },
  {
   "cell_type": "code",
   "execution_count": 22,
   "id": "f73e9be8",
   "metadata": {},
   "outputs": [],
   "source": [
    "X_test_encoded = X_test_encoded.reindex(columns=X_train_encoded.columns, fill_value=0)"
   ]
  },
  {
   "cell_type": "code",
   "execution_count": 23,
   "id": "cd8f6943",
   "metadata": {},
   "outputs": [
    {
     "data": {
      "text/plain": [
       "ID                                                    int64\n",
       "TargetID                                            float64\n",
       "DRUGID                                              float64\n",
       "Drug_high_status                                    float64\n",
       "DRUGNAME                                            float64\n",
       "PUBCHCID                                              int64\n",
       "Disease_of_highest_status                           float64\n",
       "Drug_Status                                         float64\n",
       "UNIPROID                                            float64\n",
       "TARGNAME                                            float64\n",
       "GENENAME                                            float64\n",
       "SYNONYMS                                            float64\n",
       "FUNCTION                                            float64\n",
       "BIOCLASS                                            float64\n",
       "SEQUENCE                                            float64\n",
       "Disease                                             float64\n",
       "Accession Number                                    float64\n",
       "DRUGTYPE_Combination drug (small molecular drug)      uint8\n",
       "DRUGTYPE_Protein/peptide drug                         uint8\n",
       "DRUGTYPE_Recombinant protein                          uint8\n",
       "DRUGTYPE_Small molecular drug                         uint8\n",
       "DRUGTYPE_Small molecule immunotherapy                 uint8\n",
       "dtype: object"
      ]
     },
     "execution_count": 23,
     "metadata": {},
     "output_type": "execute_result"
    }
   ],
   "source": [
    "X_train_encoded.dtypes"
   ]
  },
  {
   "cell_type": "code",
   "execution_count": 24,
   "id": "047eded9",
   "metadata": {},
   "outputs": [],
   "source": [
    "#best f1 using xgboost? (no logistic no rf?)\n",
    "import xgboost as xgb"
   ]
  },
  {
   "cell_type": "code",
   "execution_count": 25,
   "id": "dbd9d455",
   "metadata": {},
   "outputs": [
    {
     "data": {
      "text/html": [
       "<style>#sk-container-id-1 {color: black;}#sk-container-id-1 pre{padding: 0;}#sk-container-id-1 div.sk-toggleable {background-color: white;}#sk-container-id-1 label.sk-toggleable__label {cursor: pointer;display: block;width: 100%;margin-bottom: 0;padding: 0.3em;box-sizing: border-box;text-align: center;}#sk-container-id-1 label.sk-toggleable__label-arrow:before {content: \"▸\";float: left;margin-right: 0.25em;color: #696969;}#sk-container-id-1 label.sk-toggleable__label-arrow:hover:before {color: black;}#sk-container-id-1 div.sk-estimator:hover label.sk-toggleable__label-arrow:before {color: black;}#sk-container-id-1 div.sk-toggleable__content {max-height: 0;max-width: 0;overflow: hidden;text-align: left;background-color: #f0f8ff;}#sk-container-id-1 div.sk-toggleable__content pre {margin: 0.2em;color: black;border-radius: 0.25em;background-color: #f0f8ff;}#sk-container-id-1 input.sk-toggleable__control:checked~div.sk-toggleable__content {max-height: 200px;max-width: 100%;overflow: auto;}#sk-container-id-1 input.sk-toggleable__control:checked~label.sk-toggleable__label-arrow:before {content: \"▾\";}#sk-container-id-1 div.sk-estimator input.sk-toggleable__control:checked~label.sk-toggleable__label {background-color: #d4ebff;}#sk-container-id-1 div.sk-label input.sk-toggleable__control:checked~label.sk-toggleable__label {background-color: #d4ebff;}#sk-container-id-1 input.sk-hidden--visually {border: 0;clip: rect(1px 1px 1px 1px);clip: rect(1px, 1px, 1px, 1px);height: 1px;margin: -1px;overflow: hidden;padding: 0;position: absolute;width: 1px;}#sk-container-id-1 div.sk-estimator {font-family: monospace;background-color: #f0f8ff;border: 1px dotted black;border-radius: 0.25em;box-sizing: border-box;margin-bottom: 0.5em;}#sk-container-id-1 div.sk-estimator:hover {background-color: #d4ebff;}#sk-container-id-1 div.sk-parallel-item::after {content: \"\";width: 100%;border-bottom: 1px solid gray;flex-grow: 1;}#sk-container-id-1 div.sk-label:hover label.sk-toggleable__label {background-color: #d4ebff;}#sk-container-id-1 div.sk-serial::before {content: \"\";position: absolute;border-left: 1px solid gray;box-sizing: border-box;top: 0;bottom: 0;left: 50%;z-index: 0;}#sk-container-id-1 div.sk-serial {display: flex;flex-direction: column;align-items: center;background-color: white;padding-right: 0.2em;padding-left: 0.2em;position: relative;}#sk-container-id-1 div.sk-item {position: relative;z-index: 1;}#sk-container-id-1 div.sk-parallel {display: flex;align-items: stretch;justify-content: center;background-color: white;position: relative;}#sk-container-id-1 div.sk-item::before, #sk-container-id-1 div.sk-parallel-item::before {content: \"\";position: absolute;border-left: 1px solid gray;box-sizing: border-box;top: 0;bottom: 0;left: 50%;z-index: -1;}#sk-container-id-1 div.sk-parallel-item {display: flex;flex-direction: column;z-index: 1;position: relative;background-color: white;}#sk-container-id-1 div.sk-parallel-item:first-child::after {align-self: flex-end;width: 50%;}#sk-container-id-1 div.sk-parallel-item:last-child::after {align-self: flex-start;width: 50%;}#sk-container-id-1 div.sk-parallel-item:only-child::after {width: 0;}#sk-container-id-1 div.sk-dashed-wrapped {border: 1px dashed gray;margin: 0 0.4em 0.5em 0.4em;box-sizing: border-box;padding-bottom: 0.4em;background-color: white;}#sk-container-id-1 div.sk-label label {font-family: monospace;font-weight: bold;display: inline-block;line-height: 1.2em;}#sk-container-id-1 div.sk-label-container {text-align: center;}#sk-container-id-1 div.sk-container {/* jupyter's `normalize.less` sets `[hidden] { display: none; }` but bootstrap.min.css set `[hidden] { display: none !important; }` so we also need the `!important` here to be able to override the default hidden behavior on the sphinx rendered scikit-learn.org. See: https://github.com/scikit-learn/scikit-learn/issues/21755 */display: inline-block !important;position: relative;}#sk-container-id-1 div.sk-text-repr-fallback {display: none;}</style><div id=\"sk-container-id-1\" class=\"sk-top-container\"><div class=\"sk-text-repr-fallback\"><pre>XGBClassifier(base_score=None, booster=None, callbacks=None,\n",
       "              colsample_bylevel=None, colsample_bynode=None,\n",
       "              colsample_bytree=None, device=None, early_stopping_rounds=None,\n",
       "              enable_categorical=False, eval_metric=None, feature_types=None,\n",
       "              gamma=None, grow_policy=None, importance_type=None,\n",
       "              interaction_constraints=None, learning_rate=None, max_bin=None,\n",
       "              max_cat_threshold=None, max_cat_to_onehot=None,\n",
       "              max_delta_step=None, max_depth=None, max_leaves=None,\n",
       "              min_child_weight=None, missing=nan, monotone_constraints=None,\n",
       "              multi_strategy=None, n_estimators=None, n_jobs=None,\n",
       "              num_parallel_tree=None, objective=&#x27;multi:softprob&#x27;, ...)</pre><b>In a Jupyter environment, please rerun this cell to show the HTML representation or trust the notebook. <br />On GitHub, the HTML representation is unable to render, please try loading this page with nbviewer.org.</b></div><div class=\"sk-container\" hidden><div class=\"sk-item\"><div class=\"sk-estimator sk-toggleable\"><input class=\"sk-toggleable__control sk-hidden--visually\" id=\"sk-estimator-id-1\" type=\"checkbox\" checked><label for=\"sk-estimator-id-1\" class=\"sk-toggleable__label sk-toggleable__label-arrow\">XGBClassifier</label><div class=\"sk-toggleable__content\"><pre>XGBClassifier(base_score=None, booster=None, callbacks=None,\n",
       "              colsample_bylevel=None, colsample_bynode=None,\n",
       "              colsample_bytree=None, device=None, early_stopping_rounds=None,\n",
       "              enable_categorical=False, eval_metric=None, feature_types=None,\n",
       "              gamma=None, grow_policy=None, importance_type=None,\n",
       "              interaction_constraints=None, learning_rate=None, max_bin=None,\n",
       "              max_cat_threshold=None, max_cat_to_onehot=None,\n",
       "              max_delta_step=None, max_depth=None, max_leaves=None,\n",
       "              min_child_weight=None, missing=nan, monotone_constraints=None,\n",
       "              multi_strategy=None, n_estimators=None, n_jobs=None,\n",
       "              num_parallel_tree=None, objective=&#x27;multi:softprob&#x27;, ...)</pre></div></div></div></div></div>"
      ],
      "text/plain": [
       "XGBClassifier(base_score=None, booster=None, callbacks=None,\n",
       "              colsample_bylevel=None, colsample_bynode=None,\n",
       "              colsample_bytree=None, device=None, early_stopping_rounds=None,\n",
       "              enable_categorical=False, eval_metric=None, feature_types=None,\n",
       "              gamma=None, grow_policy=None, importance_type=None,\n",
       "              interaction_constraints=None, learning_rate=None, max_bin=None,\n",
       "              max_cat_threshold=None, max_cat_to_onehot=None,\n",
       "              max_delta_step=None, max_depth=None, max_leaves=None,\n",
       "              min_child_weight=None, missing=nan, monotone_constraints=None,\n",
       "              multi_strategy=None, n_estimators=None, n_jobs=None,\n",
       "              num_parallel_tree=None, objective='multi:softprob', ...)"
      ]
     },
     "execution_count": 25,
     "metadata": {},
     "output_type": "execute_result"
    }
   ],
   "source": [
    "xgb_model = xgb.XGBClassifier()\n",
    "xgb_model.fit(X_train_encoded, y_encoded)"
   ]
  },
  {
   "cell_type": "code",
   "execution_count": 26,
   "id": "ecc5feab",
   "metadata": {},
   "outputs": [],
   "source": [
    "y_pred_xgb = xgb_model.predict(X_test_encoded)"
   ]
  },
  {
   "cell_type": "code",
   "execution_count": 27,
   "id": "69603a1a",
   "metadata": {},
   "outputs": [],
   "source": [
    "#restore string values for final csv\n",
    "y_pred_original = le.inverse_transform(y_pred_xgb)"
   ]
  },
  {
   "cell_type": "code",
   "execution_count": 28,
   "id": "bf4ad723",
   "metadata": {},
   "outputs": [],
   "source": [
    "final_sub = pd.DataFrame({\"ID\": X_test_encoded.index, \"Target_Status\": y_pred_original})"
   ]
  },
  {
   "cell_type": "code",
   "execution_count": 30,
   "id": "1d18a112",
   "metadata": {},
   "outputs": [],
   "source": [
    "final_sub.to_csv(\"hackathon15.csv\", index=False)"
   ]
  },
  {
   "cell_type": "code",
   "execution_count": 31,
   "id": "1325e152",
   "metadata": {},
   "outputs": [
    {
     "data": {
      "text/html": [
       "<div>\n",
       "<style scoped>\n",
       "    .dataframe tbody tr th:only-of-type {\n",
       "        vertical-align: middle;\n",
       "    }\n",
       "\n",
       "    .dataframe tbody tr th {\n",
       "        vertical-align: top;\n",
       "    }\n",
       "\n",
       "    .dataframe thead th {\n",
       "        text-align: right;\n",
       "    }\n",
       "</style>\n",
       "<table border=\"1\" class=\"dataframe\">\n",
       "  <thead>\n",
       "    <tr style=\"text-align: right;\">\n",
       "      <th></th>\n",
       "      <th>ID</th>\n",
       "      <th>Target_Status</th>\n",
       "    </tr>\n",
       "  </thead>\n",
       "  <tbody>\n",
       "    <tr>\n",
       "      <th>0</th>\n",
       "      <td>0</td>\n",
       "      <td>Approved</td>\n",
       "    </tr>\n",
       "    <tr>\n",
       "      <th>1</th>\n",
       "      <td>1</td>\n",
       "      <td>Phase 3</td>\n",
       "    </tr>\n",
       "    <tr>\n",
       "      <th>2</th>\n",
       "      <td>2</td>\n",
       "      <td>Phase 3</td>\n",
       "    </tr>\n",
       "    <tr>\n",
       "      <th>3</th>\n",
       "      <td>3</td>\n",
       "      <td>Approved</td>\n",
       "    </tr>\n",
       "    <tr>\n",
       "      <th>4</th>\n",
       "      <td>4</td>\n",
       "      <td>Phase 1/2</td>\n",
       "    </tr>\n",
       "  </tbody>\n",
       "</table>\n",
       "</div>"
      ],
      "text/plain": [
       "   ID Target_Status\n",
       "0   0      Approved\n",
       "1   1       Phase 3\n",
       "2   2       Phase 3\n",
       "3   3      Approved\n",
       "4   4     Phase 1/2"
      ]
     },
     "execution_count": 31,
     "metadata": {},
     "output_type": "execute_result"
    }
   ],
   "source": [
    "final_sub.head()"
   ]
  },
  {
   "cell_type": "code",
   "execution_count": null,
   "id": "a39ebbdb",
   "metadata": {},
   "outputs": [],
   "source": []
  }
 ],
 "metadata": {
  "kernelspec": {
   "display_name": "Python 3 (ipykernel)",
   "language": "python",
   "name": "python3"
  },
  "language_info": {
   "codemirror_mode": {
    "name": "ipython",
    "version": 3
   },
   "file_extension": ".py",
   "mimetype": "text/x-python",
   "name": "python",
   "nbconvert_exporter": "python",
   "pygments_lexer": "ipython3",
   "version": "3.11.4"
  }
 },
 "nbformat": 4,
 "nbformat_minor": 5
}
